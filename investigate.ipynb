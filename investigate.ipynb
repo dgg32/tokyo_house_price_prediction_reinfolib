{
 "cells": [
  {
   "cell_type": "code",
   "execution_count": 1,
   "metadata": {},
   "outputs": [],
   "source": [
    "import pandas as pd\n",
    "\n",
    "import numpy as np\n",
    "\n"
   ]
  },
  {
   "cell_type": "code",
   "execution_count": 4,
   "metadata": {},
   "outputs": [
    {
     "data": {
      "text/plain": [
       "種類             object\n",
       "価格情報区分         object\n",
       "地域             object\n",
       "市区町村コード         int64\n",
       "都道府県名          object\n",
       "市区町村名          object\n",
       "地区名            object\n",
       "最寄駅：名称         object\n",
       "最寄駅：距離（分）      object\n",
       "取引価格（総額）        int64\n",
       "面積（㎡）          object\n",
       "土地の形状          object\n",
       "間口             object\n",
       "延床面積（㎡）        object\n",
       "建築年            object\n",
       "建物の構造          object\n",
       "用途             object\n",
       "今後の利用目的        object\n",
       "前面道路：方位        object\n",
       "前面道路：種類        object\n",
       "前面道路：幅員（ｍ）    float64\n",
       "都市計画           object\n",
       "建ぺい率（％）       float64\n",
       "容積率（％）        float64\n",
       "取引時期           object\n",
       "取引の事情等         object\n",
       "dtype: object"
      ]
     },
     "execution_count": 4,
     "metadata": {},
     "output_type": "execute_result"
    }
   ],
   "source": [
    "\n",
    "df = pd.read_csv(\"tokyo_reinfolib.csv\")\n",
    "df.dtypes"
   ]
  },
  {
   "cell_type": "code",
   "execution_count": 19,
   "metadata": {},
   "outputs": [
    {
     "data": {
      "text/plain": [
       "1979     170000000\n",
       "7954      82000000\n",
       "9330      61000000\n",
       "12373    110000000\n",
       "12837    160000000\n",
       "12923    250000000\n",
       "13211    190000000\n",
       "13287    120000000\n",
       "13335    110000000\n",
       "17705    110000000\n",
       "17799     91000000\n",
       "20830     98000000\n",
       "22725     82000000\n",
       "25826     77000000\n",
       "27045     77000000\n",
       "27277     81000000\n",
       "29991     48000000\n",
       "30752     65000000\n",
       "32877     64000000\n",
       "33352     48000000\n",
       "34732     60000000\n",
       "35422     68000000\n",
       "39331     50000000\n",
       "39844     60000000\n",
       "40959     73000000\n",
       "44768     78000000\n",
       "49483     68000000\n",
       "57439     54000000\n",
       "Name: 取引価格（総額）, dtype: int64"
      ]
     },
     "execution_count": 19,
     "metadata": {},
     "output_type": "execute_result"
    }
   ],
   "source": [
    "df[(df[\"延床面積（㎡）\"] == \"120\") & (df[\"建築年\"] == \"2023年\") & (df[\"用途\"] == \"住宅\") & (df[\"今後の利用目的\"] == \"住宅\")][\"取引価格（総額）\"]"
   ]
  },
  {
   "cell_type": "code",
   "execution_count": null,
   "metadata": {},
   "outputs": [],
   "source": []
  }
 ],
 "metadata": {
  "kernelspec": {
   "display_name": "tokyo_immo",
   "language": "python",
   "name": "python3"
  },
  "language_info": {
   "codemirror_mode": {
    "name": "ipython",
    "version": 3
   },
   "file_extension": ".py",
   "mimetype": "text/x-python",
   "name": "python",
   "nbconvert_exporter": "python",
   "pygments_lexer": "ipython3",
   "version": "3.11.9"
  }
 },
 "nbformat": 4,
 "nbformat_minor": 2
}
